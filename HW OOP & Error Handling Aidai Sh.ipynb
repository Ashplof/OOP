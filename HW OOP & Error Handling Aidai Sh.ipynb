{
 "cells": [
  {
   "cell_type": "markdown",
   "metadata": {},
   "source": [
    "# Object Oriented Programming (pt. 2)"
   ]
  },
  {
   "cell_type": "markdown",
   "metadata": {},
   "source": [
    "What are the two characteristics of an object? Describe them briefly using an example."
   ]
  },
  {
   "cell_type": "markdown",
   "metadata": {},
   "source": [
    "An object has two characteristics:\n",
    "\n",
    "● Attributes - what it is\n",
    "● Behaviour - what it does\n",
    "\n",
    "Cat as an object:\n",
    "\n",
    "● Attributes: colour, breed, age #ordered, changable, allows duplicates, length\n",
    "● Behaviour: rolls over, stops, turns, flexible, can be liquid #append, extend, pop"
   ]
  },
  {
   "cell_type": "markdown",
   "metadata": {},
   "source": [
    "What is the difference between a class attribute and an instance attribute?"
   ]
  },
  {
   "cell_type": "markdown",
   "metadata": {},
   "source": [
    "Python Class:\n",
    "    \n",
    "Provide a means of bundling data and functionality together. The\n",
    "blueprint for creating useful things in Python.\n",
    "\n",
    "Python Object:\n",
    "    \n",
    "An instance of a class."
   ]
  },
  {
   "cell_type": "markdown",
   "metadata": {},
   "source": [
    "This next section leverages questions from MIT's [OpenCourseWare](https://ocw.mit.edu/courses/6-189-a-gentle-introduction-to-programming-using-python-january-iap-2011/194a440234e39ddce86882786a3a7e63_MIT6_189IAP11_hw4_written.pdf)."
   ]
  },
  {
   "cell_type": "markdown",
   "metadata": {},
   "source": [
    "### Super and sub classes\n",
    "For this exercise, we want you to describe a generic superclass and at least three subclasses of that superclass, listing at least two attributes that each class would have. It’s easiest to simply describe a real-world object in this manner. After describing it, please write the Python code for the classes.\n",
    "\n",
    "An example of what we’re looking for would be to describe a generic Shoe class and some specific subclasses with\n",
    "attributes that they might have, as shown below.\n",
    "\n",
    "The description:\n",
    "```\n",
    "class Shoe:\n",
    "Attributes: self.color, self.brand\n",
    "class Converse(Shoe): # Inherits from Shoe\n",
    "Attributes: self.lowOrHighTop, self.tongueColor, self.brand = \"Converse\"\n",
    "class CombatBoot(Shoe): # Inherits from Shoe\n",
    "Attributes: self.militaryBranch, self.DesertOrJungle\n",
    "```\n",
    "The code\n",
    "\n",
    "```\n",
    "class Shoe:\n",
    "    def __init__(self, color, brand):\n",
    "        self.color=color\n",
    "        self.brand=brand\n",
    "\n",
    "class Converse(Shoe): # Inherits from Shoe\n",
    "    def __init__(self, color, lowOrHighTop, tongueColor):\n",
    "        super().__init__(color, \"Converse\")\n",
    "        self.lowOrHighTop=lowOrHighTop\n",
    "        self.tongueColor=tongueColor\n",
    "\n",
    "class CombatBoot(Shoe): # Inherits from Shoe\n",
    "    def __init__(self, color, brand, militaryBranch, DesertOrJungle):\n",
    "        super().__init__(color, brand)\n",
    "        self.militaryBranch=militaryBranch\n",
    "        self.DesertOrJungle=DesertOrJungle\n",
    "```"
   ]
  },
  {
   "cell_type": "code",
   "execution_count": 12,
   "metadata": {},
   "outputs": [],
   "source": [
    "#The description:\n",
    "\n",
    "Class: Mammals\n",
    "Attributes: self.name, self.species\n",
    "\n",
    "Class: Dogs (inherits from Mammals)\n",
    "Attributes: self.breed, self.age\n",
    "\n",
    "Class: Cats (inherits from Mammals)\n",
    "Attributes: self.color, self.weight\n",
    "\n",
    "Class: Сapybaras (inherits from Mammals)\n",
    "Attributes: self.height, self.body\n",
    "\n",
    "#Python code:\n",
    "\n",
    "class Mammals:\n",
    "    def init(self, name, species):\n",
    "        self.name = name\n",
    "        self.species = species\n",
    "\n",
    "class Dogs(Mammals):\n",
    "    def init(self, name, breed, age):\n",
    "        super().init(name, \"Dog\")\n",
    "        self.breed = breed\n",
    "        self.age = age\n",
    "\n",
    "class Cats(Mammals):\n",
    "    def init(self, name, color, weight):\n",
    "        super().init(name, \"Cat\")\n",
    "        self.color = color\n",
    "        self.weight = weight\n",
    "\n",
    "class Сapybaras(Mammals):\n",
    "    def init(self, name, height, body):\n",
    "        super().init(name, \"Сapybara\")\n",
    "        self.height = height\n",
    "        self.body = body\n"
   ]
  },
  {
   "cell_type": "markdown",
   "metadata": {},
   "source": [
    "In your own words, please describe the purpose of the super().\\_\\_init__() line of code."
   ]
  },
  {
   "cell_type": "markdown",
   "metadata": {},
   "source": [
    "A subclass inherits all the attributes and methods of The super().__init__() \n",
    "Therefore, we need to call the constructor of the superclass in the subclass to initialize the inherited attributes. \n",
    "The super().__init__() method helps us achieve this by calling the constructor of the superclass and passing the necessary \n",
    "arguments to initialize the inherited attributes. \n",
    "This ensures that the inherited attributes are initialized properly and the subclass is created with all the necessary \n",
    "attributes."
   ]
  },
  {
   "cell_type": "markdown",
   "metadata": {},
   "source": [
    "### Magical code\n",
    "\n",
    "Use the following lines of code to answer the next 4 questions.\n",
    "\n",
    "```\n",
    "class Spell:\n",
    "    def __init__(self, incantation, name):\n",
    "        self.name = name\n",
    "        self.incantation = incantation\n",
    "    def __str__(self):\n",
    "        return self.name + ’ ’ + self.incantation + ’\\n’ + self.get_description()\n",
    "    def get_description(self):\n",
    "        return ’No description’\n",
    "    def execute(self):\n",
    "        print self.incantation\n",
    "\n",
    "class Accio(Spell):\n",
    "    def __init__(self):\n",
    "        Spell.__init__(self, ’Accio’, ’Summoning Charm’)\n",
    "\n",
    "class Confundo(Spell):\n",
    "    def __init__(self):\n",
    "        Spell.__init__(self, ’Confundo’, ’Confundus Charm’)\n",
    "    def get_description(self):\n",
    "        return ’Causes the victim to become confused and befuddled.’\n",
    "\n",
    "def study_spell(spell):\n",
    "    print spell\n",
    "\n",
    "spell = Accio()\n",
    "spell.execute()\n",
    "study_spell(spell)\n",
    "study_spell(Confundo())\n",
    "```"
   ]
  },
  {
   "cell_type": "markdown",
   "metadata": {},
   "source": [
    "1. What are the parent and child classes here?"
   ]
  },
  {
   "cell_type": "markdown",
   "metadata": {},
   "source": [
    "Parent class: Spell\n",
    "Child classes: Accio, Confundo"
   ]
  },
  {
   "cell_type": "markdown",
   "metadata": {},
   "source": [
    "2. What does the code print out? (Try figuring it out without running it in Python)"
   ]
  },
  {
   "cell_type": "markdown",
   "metadata": {},
   "source": [
    "The code will print out:\n",
    "Accio\n",
    "Summoning Charm\n",
    "No description\n",
    "Confundo Confundus Charm\n",
    "Causes the victim to become confused and befuddled."
   ]
  },
  {
   "cell_type": "markdown",
   "metadata": {},
   "source": [
    "3. Which get description method is called when ‘study spell(Confundo())’ is executed? Why?"
   ]
  },
  {
   "cell_type": "markdown",
   "metadata": {},
   "source": [
    "When study_spell(Confundo()) is executed, the get_description() method of the Confundo class is called,\n",
    "because Confundo is an instance of the Confundo class, and the study_spell() function calls the get_description() method of \n",
    "the passed spell object."
   ]
  },
  {
   "cell_type": "markdown",
   "metadata": {},
   "source": [
    "4. What do we need to do so that ‘print Accio()’ will print the appropriate description (‘This charm summons\n",
    "an object to the caster, potentially over a significant distance’)? Write down the code that we\n",
    "need to add and/or change."
   ]
  },
  {
   "cell_type": "code",
   "execution_count": 6,
   "metadata": {},
   "outputs": [
    {
     "name": "stdout",
     "output_type": "stream",
     "text": [
      "Accio\n",
      "Summoning Charm Accio\n",
      "This charm summons an object to the caster, potentially over a significant distance.\n",
      "Confundus Charm Confundo\n",
      "Causes the victim to become confused and befuddled.\n",
      "Summoning Charm Accio\n",
      "This charm summons an object to the caster, potentially over a significant distance.\n"
     ]
    }
   ],
   "source": [
    "class Spell:\n",
    "    def __init__(self, incantation, name):\n",
    "        self.name = name\n",
    "        self.incantation = incantation\n",
    "\n",
    "    def __str__(self):\n",
    "        return self.name + ' ' + self.incantation + '\\n' + self.get_description()\n",
    "\n",
    "    def get_description(self):\n",
    "        return 'No description'\n",
    "\n",
    "    def execute(self):\n",
    "        print(self.incantation)\n",
    "\n",
    "class Accio(Spell):\n",
    "    def __init__(self):\n",
    "        Spell.__init__(self, 'Accio', 'Summoning Charm')\n",
    "\n",
    "    def get_description(self):\n",
    "        return 'This charm summons an object to the caster, potentially over a significant distance.'\n",
    "\n",
    "class Confundo(Spell):\n",
    "    def __init__(self):\n",
    "        Spell.__init__(self, 'Confundo', 'Confundus Charm')\n",
    "\n",
    "    def get_description(self):\n",
    "        return 'Causes the victim to become confused and befuddled.'\n",
    "\n",
    "def study_spell(spell):\n",
    "    print(spell)\n",
    "\n",
    "spell = Accio()\n",
    "spell.execute()\n",
    "study_spell(spell)\n",
    "study_spell(Confundo())\n",
    "print(Accio())"
   ]
  },
  {
   "cell_type": "markdown",
   "metadata": {},
   "source": [
    "### Help Alyssa out!\n",
    "Alyssa P. Hacker made the following Python class:\n",
    "```\n",
    "class Address:\n",
    "    def __init__(self, street, num):\n",
    "        self.street_name = street\n",
    "        self.number = num\n",
    "```\n",
    "\n",
    "She now wants to make a subclass of the class Address called CampusAddress that has a new attribute, office number,\n",
    "that can vary. This subclass will always have the street attribute set to Massachusetts Ave and the num attribute\n",
    "set to 77. She wants to use the class as follows:\n",
    "\n",
    "Note: >>> indicates lines of code that someone runs\n",
    "\n",
    "```\n",
    ">>> Sarina_addr = CampusAddress(\"32-G904\")\n",
    ">>> Sarina_addr.office_number\n",
    "’32G-904’\n",
    ">>> Sarina_addr.street_name\n",
    "’Massachusetts Ave’\n",
    ">>> Sarina_addr.number\n",
    "77\n",
    "```\n",
    "\n",
    "Alyssa is stuck and needs your help. Please help her implement the CampusAddress class; look at the magical exercise above, particularly the implementations of the two subclasses Accio and Confundo, if you’re stuck."
   ]
  },
  {
   "cell_type": "code",
   "execution_count": 24,
   "metadata": {},
   "outputs": [
    {
     "name": "stdout",
     "output_type": "stream",
     "text": [
      "32-G904\n",
      "Massachusetts Ave\n",
      "77\n"
     ]
    }
   ],
   "source": [
    "class Address:\n",
    "    def __init__(self, street, num):\n",
    "        self.street_name = street\n",
    "        self.number = num\n",
    "    \n",
    "class CampusAddress(Address):\n",
    "    def __init__(self, office_number):\n",
    "        super().__init__(\"Massachusetts Ave\", 77)\n",
    "        self.office_number = office_number\n",
    "        \n",
    "Sarina_addr = CampusAddress(\"32-G904\")\n",
    "print(Sarina_addr.office_number)  \n",
    "print(Sarina_addr.street_name) \n",
    "print(Sarina_addr.number)"
   ]
  },
  {
   "cell_type": "markdown",
   "metadata": {},
   "source": [
    "# Error Handling"
   ]
  },
  {
   "cell_type": "markdown",
   "metadata": {},
   "source": [
    "### List error handling\n",
    "Write a simple function that takes in a list of names and a position in that list. If the position exists, return the name, if it does not exists print a message that tells the user that there is no name at that position.\n",
    "\n",
    "This [list](https://www.tutorialsteacher.com/python/error-types-in-python) of Python errors may be helpful."
   ]
  },
  {
   "cell_type": "code",
   "execution_count": 37,
   "metadata": {},
   "outputs": [
    {
     "name": "stdout",
     "output_type": "stream",
     "text": [
      "The name at position 4 is Bob\n"
     ]
    }
   ],
   "source": [
    "def name_list(names, position):\n",
    "    if position < len(names):\n",
    "        return names[position]\n",
    "    else:\n",
    "        print(\"There is no name at that position\", position)\n",
    "        \n",
    "if name:\n",
    "    print('The name at position', position, 'is', name)\n",
    "    \n",
    "names = ['Ash', 'Hadicha', 'Plof', 'Hehhey', 'Bob']\n",
    "position = 4"
   ]
  },
  {
   "cell_type": "markdown",
   "metadata": {},
   "source": [
    "### File I/O error handling\n",
    "Write a program that does the following\n",
    "1. ask the user for the name of a file\n",
    "2. reads in the text file they specified\n",
    "3. counts the words in that file\n",
    "4. adds the word count to the bottom of the file\n",
    "5. save the updated the file\n",
    "\n",
    "However, we would like to make this program more robust, so we should should add some error handling to continue to ask the user for the name of a file until they enter one that exists."
   ]
  },
  {
   "cell_type": "code",
   "execution_count": 3,
   "metadata": {},
   "outputs": [
    {
     "name": "stdout",
     "output_type": "stream",
     "text": [
      "Enter the name of the file: Party in Devx.txt\n",
      "Word count: 2\n",
      "File updated successfully!\n"
     ]
    }
   ],
   "source": [
    "import os\n",
    "while True:\n",
    "    filename = input('Enter the name of the file: ')\n",
    "    if os.path.exists(filename):\n",
    "        break\n",
    "    else:\n",
    "        print('Invalid filename. Please try again')\n",
    "\n",
    "with open(filename, 'r') as file:\n",
    "    contents = file.read()\n",
    "    word_count = len(contents.split())\n",
    "\n",
    "with open(filename, 'a') as file:\n",
    "    file.write(\"\\n\" + str(word_count))\n",
    "\n",
    "print('Word count:', word_count)\n",
    "print('File updated successfully!')"
   ]
  }
 ],
 "metadata": {
  "kernelspec": {
   "display_name": "Python 3",
   "language": "python",
   "name": "python3"
  },
  "language_info": {
   "codemirror_mode": {
    "name": "ipython",
    "version": 3
   },
   "file_extension": ".py",
   "mimetype": "text/x-python",
   "name": "python",
   "nbconvert_exporter": "python",
   "pygments_lexer": "ipython3",
   "version": "3.8.5"
  }
 },
 "nbformat": 4,
 "nbformat_minor": 5
}
