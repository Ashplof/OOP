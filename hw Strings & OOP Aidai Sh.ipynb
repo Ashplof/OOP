{
 "cells": [
  {
   "cell_type": "markdown",
   "metadata": {},
   "source": [
    "# Strings"
   ]
  },
  {
   "cell_type": "markdown",
   "metadata": {},
   "source": [
    "### Make it up\n",
    "Write a function that takes in two words as input and returns (not prints) a new word which takes the first three letters of the first word and the last three letters of the second word."
   ]
  },
  {
   "cell_type": "code",
   "execution_count": 34,
   "metadata": {},
   "outputs": [
    {
     "name": "stdout",
     "output_type": "stream",
     "text": [
      "Enter a word: banana\n",
      "Enter a word: apricot\n"
     ]
    },
    {
     "data": {
      "text/plain": [
       "'bancot'"
      ]
     },
     "execution_count": 34,
     "metadata": {},
     "output_type": "execute_result"
    }
   ],
   "source": [
    "a = input('Enter a word: ')\n",
    "b = input('Enter a word: ')\n",
    "c = a[:3] + b[-3:]\n",
    "def mixed(a,b):\n",
    "    return c\n",
    "mixed(a,b)"
   ]
  },
  {
   "cell_type": "markdown",
   "metadata": {},
   "source": [
    "### Vowel-less\n",
    "They say that most words can be read without vowels, create a function that removes all vowels from any word that is entered."
   ]
  },
  {
   "cell_type": "code",
   "execution_count": 31,
   "metadata": {},
   "outputs": [
    {
     "name": "stdout",
     "output_type": "stream",
     "text": [
      "Enter a word: Ashplof\n",
      "shplf\n"
     ]
    }
   ],
   "source": [
    "word = input('Enter a word: ')\n",
    "\n",
    "def remove_vowels(word):\n",
    "    vowels = \"aeiouAEIOU\"\n",
    "    new_word = \"\"\n",
    "    for letter in word:\n",
    "        if letter not in vowels:\n",
    "            new_word += letter\n",
    "    return new_word\n",
    "new_word = remove_vowels(word)\n",
    "print(new_word)"
   ]
  },
  {
   "cell_type": "markdown",
   "metadata": {},
   "source": [
    "### Fix the lyrics\n",
    "In the process of being copied over, the following lyrics got corrupted with many extra spaces between the words and new lines. Please perform the three following tasks:\n",
    "1. clean up the lyrics to remove all the extra spacing without making direct edits to the cell below\n",
    "2. use the replace method to replace LAX with DevX\n",
    "3. create (through the Python open function) and save the lyrics to a new file called \"Party in Devx.txt\"\n",
    "4. optional: sing the song :)"
   ]
  },
  {
   "cell_type": "code",
   "execution_count": 1,
   "metadata": {},
   "outputs": [],
   "source": [
    "lyrics='''I hopped off the plane at         LAX\n",
    "With a dream and my cardigan\n",
    "\n",
    "\n",
    "Welcome to the land of fame excess (woah)\n",
    "Am I     gonna fit in?\n",
    "Jumped in the cab, here I am     for the first time\n",
    "\n",
    "\n",
    "\n",
    "\n",
    "Look to my right,     and I see the Hollywood sign\n",
    "This is           all so crazy\n",
    "\n",
    "Everybody seems so famous'''"
   ]
  },
  {
   "cell_type": "code",
   "execution_count": 16,
   "metadata": {},
   "outputs": [
    {
     "name": "stdout",
     "output_type": "stream",
     "text": [
      "I hopped off the plane at DevX\n",
      "With a dream and my cardigan\n",
      "Welcome to the land of fame excess (woah)\n",
      "Am I gonna fit in?\n",
      "Jumped in the cab, here I am for the first time\n",
      "Look to my right, and I see the Hollywood sign\n",
      "This is all so crazy\n",
      "Everybody seems so famous\n"
     ]
    }
   ],
   "source": [
    "print(lyrics.replace('  ', '').replace('\\n\\n','\\n').replace('\\n\\n','\\n').replace('\\n\\n','\\n').replace('LAX','DevX'))"
   ]
  },
  {
   "cell_type": "code",
   "execution_count": 19,
   "metadata": {},
   "outputs": [
    {
     "name": "stdout",
     "output_type": "stream",
     "text": [
      "Radio Ga Ga\n",
      "Song by Queen\n",
      "I'd sit alone and watch your light\n",
      "My only friend through teenage nights\n",
      "And everything I had to know\n",
      "I heard it on my radio\n",
      "You gave them all those old time stars\n",
      "Through wars of worlds invaded by Mars\n",
      "You made 'em laugh, you made 'em cry\n",
      "You made us feel like we could fly (radio)\n",
      "So don't become some background noise\n",
      "A backdrop for the girls and boys\n",
      "Who just don't know, or just don't care\n",
      "And just complain when you're not there\n",
      "You had your time, you had the power\n",
      "You've yet to have your finest hour\n",
      "Radio (radio)\n",
      "All we hear is radio ga ga\n",
      "Radio goo goo\n",
      "Radio ga ga\n",
      "All we hear is radio ga ga\n",
      "Radio blah blah\n",
      "Radio, what's new?\n",
      "Radio, someone still loves you\n",
      "\n"
     ]
    }
   ],
   "source": [
    "#3rd task\n",
    "f = open('Party in Devx.txt', 'rt')\n",
    "print(f.read())"
   ]
  },
  {
   "cell_type": "markdown",
   "metadata": {},
   "source": [
    "### Does it contain the letters?\n",
    "Write a function that takes two words as input. If the letters of the first word are contained within the the second word, regardless of order, return True. If not, return False."
   ]
  },
  {
   "cell_type": "code",
   "execution_count": 6,
   "metadata": {},
   "outputs": [
    {
     "name": "stdout",
     "output_type": "stream",
     "text": [
      "Enter a word: Ash\n",
      "Enter a word: ash\n"
     ]
    },
    {
     "data": {
      "text/plain": [
       "True"
      ]
     },
     "execution_count": 6,
     "metadata": {},
     "output_type": "execute_result"
    }
   ],
   "source": [
    "a = input('Enter a word: ')\n",
    "b = input('Enter a word: ')\n",
    "def letters():\n",
    "    for i in a.lower():\n",
    "        for j in b.lower():\n",
    "            if len(a) == len(b):\n",
    "                if i == j:\n",
    "                    return True\n",
    "    return False\n",
    "letters()    "
   ]
  },
  {
   "cell_type": "markdown",
   "metadata": {},
   "source": [
    "# Object Oriented Programming"
   ]
  },
  {
   "cell_type": "markdown",
   "metadata": {},
   "source": [
    "### A whole new class\n",
    "Create a class called country. All objects of the class should have a value of \"Earth\" for the attribute \"location\". Every time an objects of the class is created, the user should have the opportunity to define the name, land mass, population, and currency."
   ]
  },
  {
   "cell_type": "code",
   "execution_count": 4,
   "metadata": {},
   "outputs": [
    {
     "name": "stdout",
     "output_type": "stream",
     "text": [
      "6.692 million\n"
     ]
    }
   ],
   "source": [
    "class country():\n",
    "    location = 'Earth'\n",
    "    def __init__(self, name, land_mass, population, currency):\n",
    "        self.name = name\n",
    "        self.land_mass = land_mass\n",
    "        self.population = population\n",
    "        self.currency = currency\n",
    "        \n",
    "KG = country('Kyrgyzstan', '199,900 km²', '6.692 million', 'som')\n",
    "print(KG.population)"
   ]
  },
  {
   "cell_type": "markdown",
   "metadata": {},
   "source": [
    "### What does it do?\n",
    "Add a method to the class called \"whats_the_density\". This method should return and print the density of the object (country in this case) that it is called on."
   ]
  },
  {
   "cell_type": "code",
   "execution_count": 23,
   "metadata": {},
   "outputs": [
    {
     "name": "stdout",
     "output_type": "stream",
     "text": [
      "The population density of Kyrgyzstan is 0.03347673836918459 people per square unit.\n"
     ]
    }
   ],
   "source": [
    "class country:\n",
    "    location = \"Earth\"\n",
    "\n",
    "    def __init__(self, name, land_mass, population, currency):\n",
    "        self.name = name\n",
    "        self.land_mass = land_mass\n",
    "        self.population = population\n",
    "        self.currency = currency\n",
    "\n",
    "    def whats_the_density(self):\n",
    "        density = self.population / self.land_mass\n",
    "        print(f'The population density of {self.name} is {density} people per square unit.')\n",
    "        return density\n",
    "    \n",
    "KG = country('Kyrgyzstan', 199.900, 6.692, 'som')\n",
    "KG_density = KG.whats_the_density()"
   ]
  },
  {
   "cell_type": "markdown",
   "metadata": {},
   "source": [
    "### Population growth\n",
    "Create a method for your class which allows a user to enter the new population for the country. The method should also print a helpful message which confirms the new population and states the name of the county."
   ]
  },
  {
   "cell_type": "code",
   "execution_count": 13,
   "metadata": {},
   "outputs": [
    {
     "name": "stdout",
     "output_type": "stream",
     "text": [
      "The population of Kyrgyzstan has been updated to 7.799.\n"
     ]
    }
   ],
   "source": [
    "class country:\n",
    "    location = \"Earth\"\n",
    "\n",
    "    def __init__(self, name, land_mass, population, currency):\n",
    "        self.name = name\n",
    "        self.land_mass = land_mass\n",
    "        self.population = population\n",
    "        self.currency = currency\n",
    "\n",
    "    def whats_the_density(self):\n",
    "        density = self.population / self.land_mass\n",
    "        print(f'The population density of {self.name} is {density} people per square unit.')\n",
    "        return density\n",
    "    \n",
    "    def update_population(self, new_population):\n",
    "        self.population = new_population\n",
    "        print(f'The population of {self.name} has been updated to {new_population}.')\n",
    "    \n",
    "KG = country('Kyrgyzstan', 199.900, 6.692, 'som')\n",
    "KG.update_population(7.799)"
   ]
  },
  {
   "cell_type": "markdown",
   "metadata": {},
   "source": [
    "# Strings and Object Oriented Programming"
   ]
  },
  {
   "cell_type": "markdown",
   "metadata": {},
   "source": [
    "### Counting characters\n",
    "Write a function that will count the number of letters, numbers, and special characters in a string that is enetered.\n",
    "\n",
    "Hint: the string methods [.isalpha()](https://www.w3schools.com/python/ref_string_isalpha.asp) and [.isdigit()](https://www.w3schools.com/python/ref_string_isdigit.asp) will likely be useful here. They are methods and not functions, so they must be called using dot notation."
   ]
  },
  {
   "cell_type": "code",
   "execution_count": 30,
   "metadata": {},
   "outputs": [
    {
     "name": "stdout",
     "output_type": "stream",
     "text": [
      " Letters: 8\n",
      " Numbers: 1\n",
      " Specials: 3\n"
     ]
    }
   ],
   "source": [
    "def count(sentence):\n",
    "    letters = 0\n",
    "    numbers = 0\n",
    "    specials = 0\n",
    "\n",
    "    for x in sentence:\n",
    "        if x.isalpha():\n",
    "            letters += 1\n",
    "        elif x.isdigit():\n",
    "            numbers += 1\n",
    "        else:\n",
    "            specials += 1\n",
    "            \n",
    "    print(f' Letters: {letters}\\n',f'Numbers: {numbers}\\n',f'Specials: {specials}')\n",
    "count('Hey there! 5')"
   ]
  }
 ],
 "metadata": {
  "kernelspec": {
   "display_name": "Python 3",
   "language": "python",
   "name": "python3"
  },
  "language_info": {
   "codemirror_mode": {
    "name": "ipython",
    "version": 3
   },
   "file_extension": ".py",
   "mimetype": "text/x-python",
   "name": "python",
   "nbconvert_exporter": "python",
   "pygments_lexer": "ipython3",
   "version": "3.8.5"
  }
 },
 "nbformat": 4,
 "nbformat_minor": 5
}
